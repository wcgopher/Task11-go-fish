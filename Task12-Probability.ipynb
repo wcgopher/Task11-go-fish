{
 "cells": [
  {
   "cell_type": "code",
   "execution_count": 1,
   "metadata": {},
   "outputs": [
    {
     "data": {
      "text/plain": [
       "[0,\n",
       " 1,\n",
       " 2,\n",
       " 3,\n",
       " 4,\n",
       " 5,\n",
       " 6,\n",
       " 7,\n",
       " 8,\n",
       " 9,\n",
       " 10,\n",
       " 11,\n",
       " 12,\n",
       " 13,\n",
       " 14,\n",
       " 15,\n",
       " 16,\n",
       " 17,\n",
       " 18,\n",
       " 19,\n",
       " 20,\n",
       " 21,\n",
       " 22]"
      ]
     },
     "execution_count": 1,
     "metadata": {},
     "output_type": "execute_result"
    }
   ],
   "source": [
    "'''birthday problem chain rule by will and lucas'''\n",
    "\n",
    "\n",
    "start = [x for x in range(23)]\n",
    "start\n"
   ]
  },
  {
   "cell_type": "code",
   "execution_count": 2,
   "metadata": {},
   "outputs": [
    {
     "data": {
      "text/plain": [
       "[365,\n",
       " 364,\n",
       " 363,\n",
       " 362,\n",
       " 361,\n",
       " 360,\n",
       " 359,\n",
       " 358,\n",
       " 357,\n",
       " 356,\n",
       " 355,\n",
       " 354,\n",
       " 353,\n",
       " 352,\n",
       " 351,\n",
       " 350,\n",
       " 349,\n",
       " 348,\n",
       " 347,\n",
       " 346,\n",
       " 345,\n",
       " 344,\n",
       " 343]"
      ]
     },
     "execution_count": 2,
     "metadata": {},
     "output_type": "execute_result"
    }
   ],
   "source": [
    "y = [365- p for p in start]\n",
    "y"
   ]
  },
  {
   "cell_type": "code",
   "execution_count": 3,
   "metadata": {},
   "outputs": [
    {
     "data": {
      "text/plain": [
       "[1.0,\n",
       " 0.9972602739726028,\n",
       " 0.9945205479452055,\n",
       " 0.9917808219178083,\n",
       " 0.989041095890411,\n",
       " 0.9863013698630136,\n",
       " 0.9835616438356164,\n",
       " 0.9808219178082191,\n",
       " 0.9780821917808219,\n",
       " 0.9753424657534246,\n",
       " 0.9726027397260274,\n",
       " 0.9698630136986301,\n",
       " 0.9671232876712329,\n",
       " 0.9643835616438357,\n",
       " 0.9616438356164384,\n",
       " 0.958904109589041,\n",
       " 0.9561643835616438,\n",
       " 0.9534246575342465,\n",
       " 0.9506849315068493,\n",
       " 0.947945205479452,\n",
       " 0.9452054794520548,\n",
       " 0.9424657534246575,\n",
       " 0.9397260273972603]"
      ]
     },
     "execution_count": 3,
     "metadata": {},
     "output_type": "execute_result"
    }
   ],
   "source": [
    "total = [r / 365 for r in y]\n",
    "total"
   ]
  },
  {
   "cell_type": "code",
   "execution_count": 7,
   "metadata": {},
   "outputs": [
    {
     "name": "stdout",
     "output_type": "stream",
     "text": [
      "0.5072972343239857\n"
     ]
    }
   ],
   "source": [
    "z = 1\n",
    "for x in total: \n",
    "    z *= x\n",
    "answer = 1-z\n",
    "print(answer)"
   ]
  },
  {
   "cell_type": "code",
   "execution_count": 8,
   "metadata": {
    "collapsed": true
   },
   "outputs": [],
   "source": [
    "'''Bayes Theorem: \n",
    "Google decides to do random drug tests for heroin on their employees. They know that 3% of their population uses heroin. The drug test has the following accuracy: The test correctly identifies 95% of the heroin users (sensitivity) and 90% of the non-users (specificity).\n",
    "\n",
    "Uses heroin\tDoesn't use heroin\n",
    "Tests positive\t0.95\t0.10\n",
    "Tests negative\t0.05\t0.90\n",
    "\n",
    "Alice gets tested and the test comes back positive. What is the probability that she uses heroin?\n",
    "\n",
    "\n",
    "'''\n",
    "\n",
    "def bayes():\n",
    "    p_user = .03\n",
    "    p_non_user = .97\n",
    "    pos_user = .95\n",
    "    neg_user = .05\n",
    "    pos_non_user = .1\n",
    "    neg_non_user = .9\n",
    "    \n",
    "    return (pos_user * p_user)/((p_user*pos_user)+(p_non_user*pos_non_user))"
   ]
  },
  {
   "cell_type": "code",
   "execution_count": 9,
   "metadata": {},
   "outputs": [
    {
     "data": {
      "text/plain": [
       "0.22709163346613545"
      ]
     },
     "execution_count": 9,
     "metadata": {},
     "output_type": "execute_result"
    }
   ],
   "source": [
    "bayes()"
   ]
  },
  {
   "cell_type": "code",
   "execution_count": 10,
   "metadata": {
    "collapsed": true
   },
   "outputs": [],
   "source": [
    "'''falling object'''\n",
    "import numpy as np\n",
    "import matplotlib\n",
    "\n"
   ]
  },
  {
   "cell_type": "code",
   "execution_count": null,
   "metadata": {
    "collapsed": true
   },
   "outputs": [],
   "source": []
  }
 ],
 "metadata": {
  "kernelspec": {
   "display_name": "Python 3",
   "language": "python",
   "name": "python3"
  },
  "language_info": {
   "codemirror_mode": {
    "name": "ipython",
    "version": 3
   },
   "file_extension": ".py",
   "mimetype": "text/x-python",
   "name": "python",
   "nbconvert_exporter": "python",
   "pygments_lexer": "ipython3",
   "version": "3.6.3"
  }
 },
 "nbformat": 4,
 "nbformat_minor": 2
}
